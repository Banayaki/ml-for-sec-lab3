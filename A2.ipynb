{
 "cells": [
  {
   "cell_type": "code",
   "execution_count": 1,
   "metadata": {},
   "outputs": [],
   "source": [
    "REPOSITORY_PATH = 'BoostingCNN-Jpeg-Primary-Quantization-Matrix-Estimation'\n",
    "DATA_PATH = 'data'"
   ]
  },
  {
   "cell_type": "code",
   "execution_count": 2,
   "metadata": {},
   "outputs": [],
   "source": [
    "import os\n",
    "import cv2\n",
    "import numpy as np\n",
    "import pandas as pd\n",
    "import matplotlib.pyplot as plt\n",
    "from tqdm.notebook import tqdm\n",
    "from glob import glob\n",
    "from skimage.util import view_as_blocks, view_as_windows\n",
    "\n",
    "from core.utility import preprocess_input, estimation_by_mse, image_by_qf_generator, read_and_preprocess_image, double_compress_image, compress_image\n",
    "from core.model import Model\n",
    "\n",
    "np.random.seed(322)"
   ]
  },
  {
   "cell_type": "markdown",
   "metadata": {},
   "source": [
    "map_90 - [(60, 90), (98, 90)]\n",
    "\n",
    "map_80 - [(50, 80), (98, 80)]"
   ]
  },
  {
   "cell_type": "code",
   "execution_count": 3,
   "metadata": {},
   "outputs": [],
   "source": [
    "modelname = 'model_QF1_60-98_QF2_90-2-term-loss.h5'\n",
    "qf_map_name = 'qf1_qf2_map_90.npy'\n",
    "model_path = os.path.join(REPOSITORY_PATH, 'models', modelname)\n",
    "qf_map_path = os.path.join(REPOSITORY_PATH, 'resources', qf_map_name)"
   ]
  },
  {
   "cell_type": "code",
   "execution_count": 4,
   "metadata": {},
   "outputs": [
    {
     "name": "stdout",
     "output_type": "stream",
     "text": [
      "WARNING:tensorflow:No training configuration found in the save file, so the model was *not* compiled. Compile it manually.\n"
     ]
    }
   ],
   "source": [
    "model = Model(model_path, qf_map_path)"
   ]
  },
  {
   "cell_type": "markdown",
   "metadata": {},
   "source": [
    "Построить график зависимости ошибки при оценивании 𝑄𝐹1 в зависимости от числа\n",
    "патчей 𝑝. Дойти до такого значения 𝑝, при котором график стабилизируется."
   ]
  },
  {
   "cell_type": "code",
   "execution_count": 5,
   "metadata": {},
   "outputs": [],
   "source": [
    "def predict(image):\n",
    "    image = preprocess_input(image, (64, 64))\n",
    "    preds = model.estimate_qf1(image, lambda x, y: estimation_by_mse(x, y, weights=None, used_coeffs=slice(16)))\n",
    "    return preds"
   ]
  },
  {
   "cell_type": "code",
   "execution_count": 6,
   "metadata": {},
   "outputs": [],
   "source": [
    "test_cases = [\n",
    "    (70, ),\n",
    "    (85, 90),\n",
    "    (60, 90),\n",
    "    (95, 90),\n",
    "    (89, 90)\n",
    "]\n",
    "# Assume that 30 patches will be enough\n",
    "MAX_PATCHES = 30\n",
    "\n",
    "path_to_table = os.path.join(DATA_PATH, 'pathces_exp_results.csv')\n",
    "path_to_images = os.path.join(DATA_PATH, '*.tif')\n",
    "target_size = (64, 64)\n",
    "\n",
    "if not os.path.exists(path_to_table):\n",
    "    experiment_results = []\n",
    "    for test_case in tqdm(test_cases, position=0):\n",
    "        for filename in tqdm(glob(path_to_images), position=1, leave=True):\n",
    "            image = cv2.imread(filename)\n",
    "            all_blocks = view_as_windows(image, (64, 64, 3), step=64).reshape(-1, 64, 64, 3)\n",
    "            np.random.shuffle(all_blocks)\n",
    "            image_blocks = all_blocks[:MAX_PATCHES]\n",
    "            for block_idx, image_block in enumerate(image_blocks):\n",
    "                if len(test_case) == 1:\n",
    "                    compressed_img = compress_image(image_block, *test_case)\n",
    "                else:\n",
    "                    compressed_img = double_compress_image(image_block, *test_case)\n",
    "                qf1_qf2_hat = predict(compressed_img)\n",
    "                error = np.abs(qf1_qf2_hat[0] - test_case[0])\n",
    "                experiment_results.append([filename, block_idx, test_case, qf1_qf2_hat, error])\n",
    "    \n",
    "    df = pd.DataFrame(experiment_results, columns=['filename', 'blockidx', 'test_case', 'prediction', 'error'])\n",
    "    df.to_csv(path_to_table)"
   ]
  },
  {
   "cell_type": "code",
   "execution_count": 7,
   "metadata": {},
   "outputs": [
    {
     "data": {
      "text/html": [
       "<div>\n",
       "<style scoped>\n",
       "    .dataframe tbody tr th:only-of-type {\n",
       "        vertical-align: middle;\n",
       "    }\n",
       "\n",
       "    .dataframe tbody tr th {\n",
       "        vertical-align: top;\n",
       "    }\n",
       "\n",
       "    .dataframe thead th {\n",
       "        text-align: right;\n",
       "    }\n",
       "</style>\n",
       "<table border=\"1\" class=\"dataframe\">\n",
       "  <thead>\n",
       "    <tr style=\"text-align: right;\">\n",
       "      <th></th>\n",
       "      <th>Unnamed: 0</th>\n",
       "      <th>filename</th>\n",
       "      <th>blockidx</th>\n",
       "      <th>test_case</th>\n",
       "      <th>prediction</th>\n",
       "      <th>error</th>\n",
       "    </tr>\n",
       "  </thead>\n",
       "  <tbody>\n",
       "    <tr>\n",
       "      <th>0</th>\n",
       "      <td>0</td>\n",
       "      <td>data/0.tif</td>\n",
       "      <td>0</td>\n",
       "      <td>(70,)</td>\n",
       "      <td>[71 90]</td>\n",
       "      <td>1</td>\n",
       "    </tr>\n",
       "    <tr>\n",
       "      <th>1</th>\n",
       "      <td>1</td>\n",
       "      <td>data/0.tif</td>\n",
       "      <td>1</td>\n",
       "      <td>(70,)</td>\n",
       "      <td>[68 90]</td>\n",
       "      <td>2</td>\n",
       "    </tr>\n",
       "    <tr>\n",
       "      <th>2</th>\n",
       "      <td>2</td>\n",
       "      <td>data/0.tif</td>\n",
       "      <td>2</td>\n",
       "      <td>(70,)</td>\n",
       "      <td>[67 90]</td>\n",
       "      <td>3</td>\n",
       "    </tr>\n",
       "    <tr>\n",
       "      <th>3</th>\n",
       "      <td>3</td>\n",
       "      <td>data/0.tif</td>\n",
       "      <td>3</td>\n",
       "      <td>(70,)</td>\n",
       "      <td>[63 90]</td>\n",
       "      <td>7</td>\n",
       "    </tr>\n",
       "    <tr>\n",
       "      <th>4</th>\n",
       "      <td>4</td>\n",
       "      <td>data/0.tif</td>\n",
       "      <td>4</td>\n",
       "      <td>(70,)</td>\n",
       "      <td>[69 90]</td>\n",
       "      <td>1</td>\n",
       "    </tr>\n",
       "    <tr>\n",
       "      <th>...</th>\n",
       "      <td>...</td>\n",
       "      <td>...</td>\n",
       "      <td>...</td>\n",
       "      <td>...</td>\n",
       "      <td>...</td>\n",
       "      <td>...</td>\n",
       "    </tr>\n",
       "    <tr>\n",
       "      <th>1495</th>\n",
       "      <td>1495</td>\n",
       "      <td>data/9.tif</td>\n",
       "      <td>25</td>\n",
       "      <td>(89, 90)</td>\n",
       "      <td>[93 90]</td>\n",
       "      <td>4</td>\n",
       "    </tr>\n",
       "    <tr>\n",
       "      <th>1496</th>\n",
       "      <td>1496</td>\n",
       "      <td>data/9.tif</td>\n",
       "      <td>26</td>\n",
       "      <td>(89, 90)</td>\n",
       "      <td>[94 90]</td>\n",
       "      <td>5</td>\n",
       "    </tr>\n",
       "    <tr>\n",
       "      <th>1497</th>\n",
       "      <td>1497</td>\n",
       "      <td>data/9.tif</td>\n",
       "      <td>27</td>\n",
       "      <td>(89, 90)</td>\n",
       "      <td>[91 90]</td>\n",
       "      <td>2</td>\n",
       "    </tr>\n",
       "    <tr>\n",
       "      <th>1498</th>\n",
       "      <td>1498</td>\n",
       "      <td>data/9.tif</td>\n",
       "      <td>28</td>\n",
       "      <td>(89, 90)</td>\n",
       "      <td>[89 90]</td>\n",
       "      <td>0</td>\n",
       "    </tr>\n",
       "    <tr>\n",
       "      <th>1499</th>\n",
       "      <td>1499</td>\n",
       "      <td>data/9.tif</td>\n",
       "      <td>29</td>\n",
       "      <td>(89, 90)</td>\n",
       "      <td>[96 90]</td>\n",
       "      <td>7</td>\n",
       "    </tr>\n",
       "  </tbody>\n",
       "</table>\n",
       "<p>1500 rows × 6 columns</p>\n",
       "</div>"
      ],
      "text/plain": [
       "      Unnamed: 0    filename  blockidx test_case prediction  error\n",
       "0              0  data/0.tif         0     (70,)    [71 90]      1\n",
       "1              1  data/0.tif         1     (70,)    [68 90]      2\n",
       "2              2  data/0.tif         2     (70,)    [67 90]      3\n",
       "3              3  data/0.tif         3     (70,)    [63 90]      7\n",
       "4              4  data/0.tif         4     (70,)    [69 90]      1\n",
       "...          ...         ...       ...       ...        ...    ...\n",
       "1495        1495  data/9.tif        25  (89, 90)    [93 90]      4\n",
       "1496        1496  data/9.tif        26  (89, 90)    [94 90]      5\n",
       "1497        1497  data/9.tif        27  (89, 90)    [91 90]      2\n",
       "1498        1498  data/9.tif        28  (89, 90)    [89 90]      0\n",
       "1499        1499  data/9.tif        29  (89, 90)    [96 90]      7\n",
       "\n",
       "[1500 rows x 6 columns]"
      ]
     },
     "execution_count": 7,
     "metadata": {},
     "output_type": "execute_result"
    }
   ],
   "source": [
    "df = pd.read_csv(path_to_table)\n",
    "df"
   ]
  },
  {
   "cell_type": "code",
   "execution_count": 8,
   "metadata": {},
   "outputs": [],
   "source": [
    "means_per_number_of_blocks = []\n",
    "for i in range(MAX_PATCHES):\n",
    "    means_per_number_of_blocks.append(\n",
    "        df.query(f'blockidx <= {i}')\\\n",
    "            .groupby(['test_case'])\\\n",
    "            ['error']\\\n",
    "            .mean()\\\n",
    "            .to_dict()\n",
    "    )"
   ]
  },
  {
   "cell_type": "code",
   "execution_count": 9,
   "metadata": {},
   "outputs": [],
   "source": [
    "to_plot_data = {k: [] for k in means_per_number_of_blocks[0].keys()}\n",
    "for r in means_per_number_of_blocks:\n",
    "    for key, value in r.items():\n",
    "        to_plot_data[key].append(value)"
   ]
  },
  {
   "cell_type": "code",
   "execution_count": 19,
   "metadata": {},
   "outputs": [
    {
     "data": {
      "image/png": "[encoded data removed]",
      "text/plain": [
       "<Figure size 640x480 with 1 Axes>"
      ]
     },
     "metadata": {},
     "output_type": "display_data"
    }
   ],
   "source": [
    "for whom, values in to_plot_data.items():\n",
    "    plt.plot(np.arange(len(values)), values, label=f'{whom}')\n",
    "plt.xlabel(\"Количество патчей\")\n",
    "plt.ylabel(\"Ошибка\")\n",
    "plt.legend()\n",
    "plt.grid()\n",
    "plt.show()"
   ]
  },
  {
   "cell_type": "code",
   "execution_count": 18,
   "metadata": {},
   "outputs": [
    {
     "data": {
      "text/html": [
       "<div>\n",
       "<style scoped>\n",
       "    .dataframe tbody tr th:only-of-type {\n",
       "        vertical-align: middle;\n",
       "    }\n",
       "\n",
       "    .dataframe tbody tr th {\n",
       "        vertical-align: top;\n",
       "    }\n",
       "\n",
       "    .dataframe thead th {\n",
       "        text-align: right;\n",
       "    }\n",
       "</style>\n",
       "<table border=\"1\" class=\"dataframe\">\n",
       "  <thead>\n",
       "    <tr style=\"text-align: right;\">\n",
       "      <th></th>\n",
       "      <th>error</th>\n",
       "    </tr>\n",
       "    <tr>\n",
       "      <th>test_case</th>\n",
       "      <th></th>\n",
       "    </tr>\n",
       "  </thead>\n",
       "  <tbody>\n",
       "    <tr>\n",
       "      <th>(60, 90)</th>\n",
       "      <td>1.620000</td>\n",
       "    </tr>\n",
       "    <tr>\n",
       "      <th>(70,)</th>\n",
       "      <td>1.713333</td>\n",
       "    </tr>\n",
       "    <tr>\n",
       "      <th>(85, 90)</th>\n",
       "      <td>0.976667</td>\n",
       "    </tr>\n",
       "    <tr>\n",
       "      <th>(89, 90)</th>\n",
       "      <td>5.836667</td>\n",
       "    </tr>\n",
       "    <tr>\n",
       "      <th>(95, 90)</th>\n",
       "      <td>1.073333</td>\n",
       "    </tr>\n",
       "  </tbody>\n",
       "</table>\n",
       "</div>"
      ],
      "text/plain": [
       "              error\n",
       "test_case          \n",
       "(60, 90)   1.620000\n",
       "(70,)      1.713333\n",
       "(85, 90)   0.976667\n",
       "(89, 90)   5.836667\n",
       "(95, 90)   1.073333"
      ]
     },
     "execution_count": 18,
     "metadata": {},
     "output_type": "execute_result"
    }
   ],
   "source": [
    "df.groupby(['test_case'])\\\n",
    "            ['error']\\\n",
    "            .mean()\\\n",
    "            .to_frame()"
   ]
  },
  {
   "cell_type": "code",
   "execution_count": null,
   "metadata": {},
   "outputs": [],
   "source": []
  }
 ],
 "metadata": {
  "kernelspec": {
   "display_name": "Python 3",
   "language": "python",
   "name": "python3"
  },
  "language_info": {
   "codemirror_mode": {
    "name": "ipython",
    "version": 3
   },
   "file_extension": ".py",
   "mimetype": "text/x-python",
   "name": "python",
   "nbconvert_exporter": "python",
   "pygments_lexer": "ipython3",
   "version": "3.8.10"
  },
  "vscode": {
   "interpreter": {
    "hash": "916dbcbb3f70747c44a77c7bcd40155683ae19c65e1c03b4aa3499c5328201f1"
   }
  }
 },
 "nbformat": 4,
 "nbformat_minor": 2
}
