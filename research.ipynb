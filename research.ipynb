{
 "cells": [
  {
   "cell_type": "code",
   "execution_count": 1,
   "metadata": {},
   "outputs": [],
   "source": [
    "REPOSITORY_PATH = 'BoostingCNN-Jpeg-Primary-Quantization-Matrix-Estimation'\n",
    "\n",
    "import sys\n",
    "import os\n",
    "sys.path.append(REPOSITORY_PATH)"
   ]
  },
  {
   "cell_type": "code",
   "execution_count": 2,
   "metadata": {},
   "outputs": [],
   "source": [
    "import cv2\n",
    "import numpy as np\n",
    "import tensorflow as tf\n",
    "from networks import custom_two_terms_loss_wrapper, custom_softmax_activation, custom_mse_wrapper\n",
    "from utils import max_min_coefficient, label2coefficient, string2Q"
   ]
  },
  {
   "attachments": {},
   "cell_type": "markdown",
   "metadata": {},
   "source": [
    "# Playground"
   ]
  },
  {
   "cell_type": "code",
   "execution_count": 3,
   "metadata": {},
   "outputs": [],
   "source": [
    "def preprocess_input(im_file, target_size, scale=255.):\n",
    "    im = cv2.imread(im_file)\n",
    "    im = cv2.cvtColor(im, cv2.COLOR_BGR2YCrCb)[:,:,0]\n",
    "    if im.shape != target_size:\n",
    "        im = cv2.resize(im, target_size)\n",
    "\n",
    "    return im.astype(np.float32) / scale"
   ]
  },
  {
   "cell_type": "code",
   "execution_count": 4,
   "metadata": {},
   "outputs": [],
   "source": [
    "def load_qf_map(filename, n_coefs=15):\n",
    "    qf_list = np.load(filename, allow_pickle=True)\n",
    "    qf_labels = [qf[:2] for qf in qf_list]\n",
    "    qf_coeffs = [string2Q(qf[2])[:n_coefs] for qf in qf_list]\n",
    "    return qf_labels, qf_coeffs"
   ]
  },
  {
   "cell_type": "code",
   "execution_count": 5,
   "metadata": {},
   "outputs": [],
   "source": [
    "def estimation_by_mse(x, y, weights=None):\n",
    "    diff = (x - y) ** 2\n",
    "    return np.average(diff, axis=1, weights=weights)"
   ]
  },
  {
   "cell_type": "code",
   "execution_count": 6,
   "metadata": {},
   "outputs": [],
   "source": [
    "def get_QF(x, y, labels, estimator=estimation_by_mse):\n",
    "    argmin = np.argmin(estimator(x, y))\n",
    "    return labels[argmin]"
   ]
  },
  {
   "cell_type": "code",
   "execution_count": 7,
   "metadata": {},
   "outputs": [],
   "source": [
    "modelname = 'model_QF1_55-98_QF2_80-2-term-loss.h5'\n",
    "model_file = os.path.join(REPOSITORY_PATH, 'models', modelname)\n",
    "# img_file = os.path.join('data', 'roxy.jpeg')\n",
    "img_file = 'BoostingCNN-Jpeg-Primary-Quantization-Matrix-Estimation/resources/00000000_redaf7d93t.TIF_85_90.png'\n",
    "qf_labels, qf_coeffs = load_qf_map(os.path.join(REPOSITORY_PATH, 'resources', 'qf1_qf2_map_90.npy'))"
   ]
  },
  {
   "cell_type": "code",
   "execution_count": 8,
   "metadata": {},
   "outputs": [],
   "source": [
    "max_coeffs, min_coeffs = max_min_coefficient(quality_range=(50, 100),\n",
    "                                             n_coeffs=15,\n",
    "                                             zig_zag_order=True)"
   ]
  },
  {
   "cell_type": "code",
   "execution_count": 9,
   "metadata": {},
   "outputs": [
    {
     "name": "stdout",
     "output_type": "stream",
     "text": [
      "WARNING:tensorflow:No training configuration found in the save file, so the model was *not* compiled. Compile it manually.\n"
     ]
    }
   ],
   "source": [
    "model = tf.keras.models.load_model(model_file,\n",
    "                                    custom_objects=({'custom_softmax': custom_softmax_activation(max_coeffs),\n",
    "                                                    'custom_two_terms_loss_wrapper': custom_two_terms_loss_wrapper(\n",
    "                                                        max_coeffs, 0.8),\n",
    "                                                    'custom_mse': custom_mse_wrapper(max_coeffs)})\n",
    "                                    )"
   ]
  },
  {
   "cell_type": "code",
   "execution_count": 10,
   "metadata": {},
   "outputs": [
    {
     "name": "stdout",
     "output_type": "stream",
     "text": [
      "1/1 [==============================] - 0s 393ms/step\n",
      "[1 1 1 1 1 1 1 1 1 1 1 1 1 2 1]\n"
     ]
    }
   ],
   "source": [
    "x = preprocess_input(img_file, (64, 64), 255.)\n",
    "prediction = model.predict(np.expand_dims(x, [0, -1]))\n",
    "\n",
    "predicted_label = label2coefficient(prediction.flatten(), max_coefficients=max_coeffs)\n",
    "print(predicted_label)"
   ]
  },
  {
   "cell_type": "code",
   "execution_count": 11,
   "metadata": {},
   "outputs": [
    {
     "data": {
      "text/plain": [
       "array([96, 90], dtype=object)"
      ]
     },
     "execution_count": 11,
     "metadata": {},
     "output_type": "execute_result"
    }
   ],
   "source": [
    "get_QF(qf_coeffs, predicted_label, qf_labels, estimator=estimation_by_mse)"
   ]
  },
  {
   "attachments": {},
   "cell_type": "markdown",
   "metadata": {},
   "source": [
    "# Download raw images from RAISE1k"
   ]
  },
  {
   "cell_type": "code",
   "execution_count": 1,
   "metadata": {},
   "outputs": [],
   "source": [
    "import pandas as pd"
   ]
  },
  {
   "cell_type": "code",
   "execution_count": 2,
   "metadata": {},
   "outputs": [
    {
     "data": {
      "text/html": [
       "<div>\n",
       "<style scoped>\n",
       "    .dataframe tbody tr th:only-of-type {\n",
       "        vertical-align: middle;\n",
       "    }\n",
       "\n",
       "    .dataframe tbody tr th {\n",
       "        vertical-align: top;\n",
       "    }\n",
       "\n",
       "    .dataframe thead th {\n",
       "        text-align: right;\n",
       "    }\n",
       "</style>\n",
       "<table border=\"1\" class=\"dataframe\">\n",
       "  <thead>\n",
       "    <tr style=\"text-align: right;\">\n",
       "      <th></th>\n",
       "      <th>File</th>\n",
       "      <th>NEF</th>\n",
       "      <th>TIFF</th>\n",
       "      <th>Date Created</th>\n",
       "      <th>Date Modified</th>\n",
       "      <th>File Size</th>\n",
       "      <th>Image Size</th>\n",
       "      <th>Date Shot</th>\n",
       "      <th>Time Zone and Date</th>\n",
       "      <th>Image Quality</th>\n",
       "      <th>...</th>\n",
       "      <th>Sharpening.1</th>\n",
       "      <th>Latitude</th>\n",
       "      <th>Longitude</th>\n",
       "      <th>Altitude</th>\n",
       "      <th>Altitude Reference</th>\n",
       "      <th>Heading</th>\n",
       "      <th>UTC</th>\n",
       "      <th>Map Datum</th>\n",
       "      <th>Scene Mode</th>\n",
       "      <th>Keywords</th>\n",
       "    </tr>\n",
       "  </thead>\n",
       "  <tbody>\n",
       "    <tr>\n",
       "      <th>0</th>\n",
       "      <td>r000da54ft</td>\n",
       "      <td>http://193.205.194.113/RAISE/NEF/r000da54ft.NEF</td>\n",
       "      <td>http://193.205.194.113/RAISE/TIFF/r000da54ft.TIF</td>\n",
       "      <td>9/20/2014 23:51</td>\n",
       "      <td>3/19/2012 9:14</td>\n",
       "      <td>9.79 MB</td>\n",
       "      <td>L (4288 x 2848)</td>\n",
       "      <td>14:14.0</td>\n",
       "      <td>UTC+1, DST:ON</td>\n",
       "      <td>Compressed RAW (12-bit)</td>\n",
       "      <td>...</td>\n",
       "      <td>NaN</td>\n",
       "      <td>NaN</td>\n",
       "      <td>NaN</td>\n",
       "      <td>NaN</td>\n",
       "      <td>NaN</td>\n",
       "      <td>NaN</td>\n",
       "      <td>NaN</td>\n",
       "      <td>NaN</td>\n",
       "      <td>NaN</td>\n",
       "      <td>nature; outdoor</td>\n",
       "    </tr>\n",
       "    <tr>\n",
       "      <th>1</th>\n",
       "      <td>r001d260dt</td>\n",
       "      <td>http://193.205.194.113/RAISE/NEF/r001d260dt.NEF</td>\n",
       "      <td>http://193.205.194.113/RAISE/TIFF/r001d260dt.TIF</td>\n",
       "      <td>9/21/2014 9:58</td>\n",
       "      <td>5/11/2013 6:45</td>\n",
       "      <td>20.0 MB</td>\n",
       "      <td>L (4928 x 3264)</td>\n",
       "      <td>45:58.6</td>\n",
       "      <td>UTC+1, DST:ON</td>\n",
       "      <td>Lossless Compressed RAW (14-bit)</td>\n",
       "      <td>...</td>\n",
       "      <td>NaN</td>\n",
       "      <td>NaN</td>\n",
       "      <td>NaN</td>\n",
       "      <td>NaN</td>\n",
       "      <td>NaN</td>\n",
       "      <td>NaN</td>\n",
       "      <td>NaN</td>\n",
       "      <td>NaN</td>\n",
       "      <td>Aperture Priority</td>\n",
       "      <td>buildings; outdoor</td>\n",
       "    </tr>\n",
       "    <tr>\n",
       "      <th>2</th>\n",
       "      <td>r002fc3e2t</td>\n",
       "      <td>http://193.205.194.113/RAISE/NEF/r002fc3e2t.NEF</td>\n",
       "      <td>http://193.205.194.113/RAISE/TIFF/r002fc3e2t.TIF</td>\n",
       "      <td>9/21/2014 3:29</td>\n",
       "      <td>5/4/2014 8:42</td>\n",
       "      <td>21.5 MB</td>\n",
       "      <td>L (4928 x 3264)</td>\n",
       "      <td>42:11.6</td>\n",
       "      <td>UTC+1, DST:ON</td>\n",
       "      <td>Lossless Compressed RAW (14-bit)</td>\n",
       "      <td>...</td>\n",
       "      <td>NaN</td>\n",
       "      <td>NaN</td>\n",
       "      <td>NaN</td>\n",
       "      <td>NaN</td>\n",
       "      <td>NaN</td>\n",
       "      <td>NaN</td>\n",
       "      <td>NaN</td>\n",
       "      <td>NaN</td>\n",
       "      <td>NaN</td>\n",
       "      <td>outdoor; people</td>\n",
       "    </tr>\n",
       "    <tr>\n",
       "      <th>3</th>\n",
       "      <td>r00444b95t</td>\n",
       "      <td>http://193.205.194.113/RAISE/NEF/r00444b95t.NEF</td>\n",
       "      <td>http://193.205.194.113/RAISE/TIFF/r00444b95t.TIF</td>\n",
       "      <td>9/21/2014 12:20</td>\n",
       "      <td>9/2/2013 11:02</td>\n",
       "      <td>19.8 MB</td>\n",
       "      <td>L (4928 x 3264)</td>\n",
       "      <td>02:23.5</td>\n",
       "      <td>UTC+1, DST:ON</td>\n",
       "      <td>Lossless Compressed RAW (14-bit)</td>\n",
       "      <td>...</td>\n",
       "      <td>NaN</td>\n",
       "      <td>NaN</td>\n",
       "      <td>NaN</td>\n",
       "      <td>NaN</td>\n",
       "      <td>NaN</td>\n",
       "      <td>NaN</td>\n",
       "      <td>NaN</td>\n",
       "      <td>NaN</td>\n",
       "      <td>Manual</td>\n",
       "      <td>buildings; outdoor</td>\n",
       "    </tr>\n",
       "    <tr>\n",
       "      <th>4</th>\n",
       "      <td>r005f3e70t</td>\n",
       "      <td>http://193.205.194.113/RAISE/NEF/r005f3e70t.NEF</td>\n",
       "      <td>http://193.205.194.113/RAISE/TIFF/r005f3e70t.TIF</td>\n",
       "      <td>9/20/2014 23:19</td>\n",
       "      <td>2/18/2012 12:08</td>\n",
       "      <td>10.6 MB</td>\n",
       "      <td>L (4288 x 2848)</td>\n",
       "      <td>08:05.0</td>\n",
       "      <td>UTC+1, DST:OFF</td>\n",
       "      <td>Compressed RAW (12-bit)</td>\n",
       "      <td>...</td>\n",
       "      <td>NaN</td>\n",
       "      <td>NaN</td>\n",
       "      <td>NaN</td>\n",
       "      <td>NaN</td>\n",
       "      <td>NaN</td>\n",
       "      <td>NaN</td>\n",
       "      <td>NaN</td>\n",
       "      <td>NaN</td>\n",
       "      <td>NaN</td>\n",
       "      <td>buildings; outdoor</td>\n",
       "    </tr>\n",
       "  </tbody>\n",
       "</table>\n",
       "<p>5 rows × 63 columns</p>\n",
       "</div>"
      ],
      "text/plain": [
       "         File                                              NEF  \\\n",
       "0  r000da54ft  http://193.205.194.113/RAISE/NEF/r000da54ft.NEF   \n",
       "1  r001d260dt  http://193.205.194.113/RAISE/NEF/r001d260dt.NEF   \n",
       "2  r002fc3e2t  http://193.205.194.113/RAISE/NEF/r002fc3e2t.NEF   \n",
       "3  r00444b95t  http://193.205.194.113/RAISE/NEF/r00444b95t.NEF   \n",
       "4  r005f3e70t  http://193.205.194.113/RAISE/NEF/r005f3e70t.NEF   \n",
       "\n",
       "                                               TIFF     Date Created  \\\n",
       "0  http://193.205.194.113/RAISE/TIFF/r000da54ft.TIF  9/20/2014 23:51   \n",
       "1  http://193.205.194.113/RAISE/TIFF/r001d260dt.TIF   9/21/2014 9:58   \n",
       "2  http://193.205.194.113/RAISE/TIFF/r002fc3e2t.TIF   9/21/2014 3:29   \n",
       "3  http://193.205.194.113/RAISE/TIFF/r00444b95t.TIF  9/21/2014 12:20   \n",
       "4  http://193.205.194.113/RAISE/TIFF/r005f3e70t.TIF  9/20/2014 23:19   \n",
       "\n",
       "     Date Modified File Size       Image Size Date Shot Time Zone and Date  \\\n",
       "0   3/19/2012 9:14   9.79 MB  L (4288 x 2848)   14:14.0      UTC+1, DST:ON   \n",
       "1   5/11/2013 6:45   20.0 MB  L (4928 x 3264)   45:58.6      UTC+1, DST:ON   \n",
       "2    5/4/2014 8:42   21.5 MB  L (4928 x 3264)   42:11.6      UTC+1, DST:ON   \n",
       "3   9/2/2013 11:02   19.8 MB  L (4928 x 3264)   02:23.5      UTC+1, DST:ON   \n",
       "4  2/18/2012 12:08   10.6 MB  L (4288 x 2848)   08:05.0     UTC+1, DST:OFF   \n",
       "\n",
       "                      Image Quality  ... Sharpening.1 Latitude Longitude  \\\n",
       "0           Compressed RAW (12-bit)  ...          NaN      NaN       NaN   \n",
       "1  Lossless Compressed RAW (14-bit)  ...          NaN      NaN       NaN   \n",
       "2  Lossless Compressed RAW (14-bit)  ...          NaN      NaN       NaN   \n",
       "3  Lossless Compressed RAW (14-bit)  ...          NaN      NaN       NaN   \n",
       "4           Compressed RAW (12-bit)  ...          NaN      NaN       NaN   \n",
       "\n",
       "  Altitude Altitude Reference Heading UTC Map Datum         Scene Mode  \\\n",
       "0      NaN                NaN     NaN NaN       NaN                NaN   \n",
       "1      NaN                NaN     NaN NaN       NaN  Aperture Priority   \n",
       "2      NaN                NaN     NaN NaN       NaN                NaN   \n",
       "3      NaN                NaN     NaN NaN       NaN             Manual   \n",
       "4      NaN                NaN     NaN NaN       NaN                NaN   \n",
       "\n",
       "             Keywords  \n",
       "0     nature; outdoor  \n",
       "1  buildings; outdoor  \n",
       "2     outdoor; people  \n",
       "3  buildings; outdoor  \n",
       "4  buildings; outdoor  \n",
       "\n",
       "[5 rows x 63 columns]"
      ]
     },
     "execution_count": 2,
     "metadata": {},
     "output_type": "execute_result"
    }
   ],
   "source": [
    "df = pd.read_csv('data/RAISE_1k.csv')\n",
    "df.head()"
   ]
  },
  {
   "cell_type": "code",
   "execution_count": 6,
   "metadata": {},
   "outputs": [],
   "source": [
    "links = df['TIFF'].iloc[:10].values"
   ]
  },
  {
   "cell_type": "code",
   "execution_count": 9,
   "metadata": {},
   "outputs": [
    {
     "name": "stdout",
     "output_type": "stream",
     "text": [
      "  % Total    % Received % Xferd  Average Speed   Time    Time     Time  Current\n",
      "                                 Dload  Upload   Total   Spent    Left  Speed\n",
      "100 14.1M  100 14.1M    0     0  12.2M      0  0:00:01  0:00:01 --:--:-- 12.2M\n",
      "  % Total    % Received % Xferd  Average Speed   Time    Time     Time  Current\n",
      "                                 Dload  Upload   Total   Spent    Left  Speed\n",
      "100 19.6M  100 19.6M    0     0  14.3M      0  0:00:01  0:00:01 --:--:-- 14.3M\n",
      "  % Total    % Received % Xferd  Average Speed   Time    Time     Time  Current\n",
      "                                 Dload  Upload   Total   Spent    Left  Speed\n",
      "100 31.2M  100 31.2M    0     0  16.6M      0  0:00:01  0:00:01 --:--:-- 16.6M\n",
      "  % Total    % Received % Xferd  Average Speed   Time    Time     Time  Current\n",
      "                                 Dload  Upload   Total   Spent    Left  Speed\n",
      "100 24.3M  100 24.3M    0     0  15.5M      0  0:00:01  0:00:01 --:--:-- 15.5M\n",
      "  % Total    % Received % Xferd  Average Speed   Time    Time     Time  Current\n",
      "                                 Dload  Upload   Total   Spent    Left  Speed\n",
      "100 20.2M  100 20.2M    0     0  14.6M      0  0:00:01  0:00:01 --:--:-- 14.6M\n",
      "  % Total    % Received % Xferd  Average Speed   Time    Time     Time  Current\n",
      "                                 Dload  Upload   Total   Spent    Left  Speed\n",
      "100 18.5M  100 18.5M    0     0  13.2M      0  0:00:01  0:00:01 --:--:-- 13.2M\n",
      "  % Total    % Received % Xferd  Average Speed   Time    Time     Time  Current\n",
      "                                 Dload  Upload   Total   Spent    Left  Speed\n",
      "100 18.9M  100 18.9M    0     0  13.0M      0  0:00:01  0:00:01 --:--:-- 13.0M\n",
      "  % Total    % Received % Xferd  Average Speed   Time    Time     Time  Current\n",
      "                                 Dload  Upload   Total   Spent    Left  Speed\n",
      "100 21.3M  100 21.3M    0     0  13.9M      0  0:00:01  0:00:01 --:--:-- 13.9M\n",
      "  % Total    % Received % Xferd  Average Speed   Time    Time     Time  Current\n",
      "                                 Dload  Upload   Total   Spent    Left  Speed\n",
      "100 31.3M  100 31.3M    0     0  16.8M      0  0:00:01  0:00:01 --:--:-- 16.8M\n",
      "  % Total    % Received % Xferd  Average Speed   Time    Time     Time  Current\n",
      "                                 Dload  Upload   Total   Spent    Left  Speed\n",
      "100 21.1M  100 21.1M    0     0  13.9M      0  0:00:01  0:00:01 --:--:-- 13.9M\n"
     ]
    }
   ],
   "source": [
    "for i, link in enumerate(links):\n",
    "    ! curl \"$link\" --output data/\"$i\".tif"
   ]
  },
  {
   "cell_type": "code",
   "execution_count": null,
   "metadata": {},
   "outputs": [],
   "source": []
  }
 ],
 "metadata": {
  "kernelspec": {
   "display_name": "Python 3",
   "language": "python",
   "name": "python3"
  },
  "language_info": {
   "codemirror_mode": {
    "name": "ipython",
    "version": 3
   },
   "file_extension": ".py",
   "mimetype": "text/x-python",
   "name": "python",
   "nbconvert_exporter": "python",
   "pygments_lexer": "ipython3",
   "version": "3.8.10"
  },
  "orig_nbformat": 4,
  "vscode": {
   "interpreter": {
    "hash": "31f2aee4e71d21fbe5cf8b01ff0e069b9275f58929596ceb00d14d90e3e16cd6"
   }
  }
 },
 "nbformat": 4,
 "nbformat_minor": 2
}
